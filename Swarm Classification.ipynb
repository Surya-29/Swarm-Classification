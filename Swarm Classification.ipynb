{
 "cells": [
  {
   "cell_type": "markdown",
   "id": "a7b9f8e7",
   "metadata": {},
   "source": [
    "# Swarm Classification\n",
    "\n",
    "<a href=\"https://www.kaggle.com/datasets/deepcontractor/swarm-behaviour-classification\">Dataset Link</a>"
   ]
  },
  {
   "cell_type": "code",
   "execution_count": 67,
   "id": "21df8386",
   "metadata": {},
   "outputs": [],
   "source": [
    "# pip install pydotplus"
   ]
  },
  {
   "cell_type": "markdown",
   "id": "52a89588",
   "metadata": {},
   "source": [
    "# Import Libraries"
   ]
  },
  {
   "cell_type": "code",
   "execution_count": 1,
   "id": "add95f63",
   "metadata": {},
   "outputs": [],
   "source": [
    "import numpy as np\n",
    "import pandas as pd\n",
    "import matplotlib.pyplot as plt\n",
    "\n",
    "from sklearn.model_selection import train_test_split\n",
    "from sklearn.naive_bayes import GaussianNB,BernoulliNB,MultinomialNB\n",
    "from sklearn.metrics import confusion_matrix,accuracy_score,classification_report\n",
    "from sklearn.preprocessing import LabelEncoder\n",
    "from sklearn.neighbors import KNeighborsClassifier\n",
    "from sklearn.linear_model import LogisticRegression\n",
    "from sklearn.tree import DecisionTreeClassifier\n",
    "\n",
    "import pydotplus\n",
    "from sklearn.tree import export_graphviz\n",
    "\n",
    "import warnings\n",
    "warnings.filterwarnings(\"ignore\")"
   ]
  },
  {
   "cell_type": "markdown",
   "id": "41406526",
   "metadata": {},
   "source": [
    "# Reading Data"
   ]
  },
  {
   "cell_type": "code",
   "execution_count": 2,
   "id": "5669106c",
   "metadata": {},
   "outputs": [],
   "source": [
    "data=pd.read_csv('Swarm_Behaviour.csv')"
   ]
  },
  {
   "cell_type": "code",
   "execution_count": 3,
   "id": "9eaaaee8",
   "metadata": {},
   "outputs": [
    {
     "data": {
      "text/html": [
       "<div>\n",
       "<style scoped>\n",
       "    .dataframe tbody tr th:only-of-type {\n",
       "        vertical-align: middle;\n",
       "    }\n",
       "\n",
       "    .dataframe tbody tr th {\n",
       "        vertical-align: top;\n",
       "    }\n",
       "\n",
       "    .dataframe thead th {\n",
       "        text-align: right;\n",
       "    }\n",
       "</style>\n",
       "<table border=\"1\" class=\"dataframe\">\n",
       "  <thead>\n",
       "    <tr style=\"text-align: right;\">\n",
       "      <th></th>\n",
       "      <th>x1</th>\n",
       "      <th>y1</th>\n",
       "      <th>xVel1</th>\n",
       "      <th>yVel1</th>\n",
       "      <th>xA1</th>\n",
       "      <th>yA1</th>\n",
       "      <th>xS1</th>\n",
       "      <th>yS1</th>\n",
       "      <th>xC1</th>\n",
       "      <th>yC1</th>\n",
       "      <th>...</th>\n",
       "      <th>yVel200</th>\n",
       "      <th>xA200</th>\n",
       "      <th>yA200</th>\n",
       "      <th>xS200</th>\n",
       "      <th>yS200</th>\n",
       "      <th>xC200</th>\n",
       "      <th>yC200</th>\n",
       "      <th>nAC200</th>\n",
       "      <th>nS200</th>\n",
       "      <th>Swarm_Behaviour</th>\n",
       "    </tr>\n",
       "  </thead>\n",
       "  <tbody>\n",
       "    <tr>\n",
       "      <th>0</th>\n",
       "      <td>562.05</td>\n",
       "      <td>-0.62</td>\n",
       "      <td>-10.70</td>\n",
       "      <td>-4.33</td>\n",
       "      <td>0.00</td>\n",
       "      <td>0.00</td>\n",
       "      <td>0.0</td>\n",
       "      <td>0.0</td>\n",
       "      <td>0.00</td>\n",
       "      <td>0.00</td>\n",
       "      <td>...</td>\n",
       "      <td>-15.15</td>\n",
       "      <td>0.00</td>\n",
       "      <td>0.00</td>\n",
       "      <td>0.00</td>\n",
       "      <td>0.00</td>\n",
       "      <td>0.00</td>\n",
       "      <td>0.0</td>\n",
       "      <td>28</td>\n",
       "      <td>0</td>\n",
       "      <td>0.0</td>\n",
       "    </tr>\n",
       "    <tr>\n",
       "      <th>1</th>\n",
       "      <td>175.66</td>\n",
       "      <td>-57.09</td>\n",
       "      <td>2.31</td>\n",
       "      <td>-2.67</td>\n",
       "      <td>0.00</td>\n",
       "      <td>0.00</td>\n",
       "      <td>0.0</td>\n",
       "      <td>0.0</td>\n",
       "      <td>0.00</td>\n",
       "      <td>0.00</td>\n",
       "      <td>...</td>\n",
       "      <td>-3.48</td>\n",
       "      <td>0.00</td>\n",
       "      <td>0.00</td>\n",
       "      <td>0.00</td>\n",
       "      <td>0.00</td>\n",
       "      <td>0.00</td>\n",
       "      <td>0.0</td>\n",
       "      <td>4</td>\n",
       "      <td>0</td>\n",
       "      <td>0.0</td>\n",
       "    </tr>\n",
       "    <tr>\n",
       "      <th>2</th>\n",
       "      <td>200.16</td>\n",
       "      <td>-320.07</td>\n",
       "      <td>4.01</td>\n",
       "      <td>-6.37</td>\n",
       "      <td>0.00</td>\n",
       "      <td>0.00</td>\n",
       "      <td>0.0</td>\n",
       "      <td>0.0</td>\n",
       "      <td>0.18</td>\n",
       "      <td>-0.26</td>\n",
       "      <td>...</td>\n",
       "      <td>-9.38</td>\n",
       "      <td>0.00</td>\n",
       "      <td>0.00</td>\n",
       "      <td>0.00</td>\n",
       "      <td>0.00</td>\n",
       "      <td>-0.11</td>\n",
       "      <td>-0.3</td>\n",
       "      <td>15</td>\n",
       "      <td>1</td>\n",
       "      <td>0.0</td>\n",
       "    </tr>\n",
       "    <tr>\n",
       "      <th>3</th>\n",
       "      <td>316.99</td>\n",
       "      <td>-906.84</td>\n",
       "      <td>0.85</td>\n",
       "      <td>9.17</td>\n",
       "      <td>-0.17</td>\n",
       "      <td>1.03</td>\n",
       "      <td>0.0</td>\n",
       "      <td>0.0</td>\n",
       "      <td>0.00</td>\n",
       "      <td>0.00</td>\n",
       "      <td>...</td>\n",
       "      <td>10.39</td>\n",
       "      <td>-0.26</td>\n",
       "      <td>1.01</td>\n",
       "      <td>0.00</td>\n",
       "      <td>0.00</td>\n",
       "      <td>0.00</td>\n",
       "      <td>0.0</td>\n",
       "      <td>16</td>\n",
       "      <td>0</td>\n",
       "      <td>0.0</td>\n",
       "    </tr>\n",
       "    <tr>\n",
       "      <th>4</th>\n",
       "      <td>1277.68</td>\n",
       "      <td>908.54</td>\n",
       "      <td>-2.02</td>\n",
       "      <td>8.23</td>\n",
       "      <td>-1.00</td>\n",
       "      <td>1.00</td>\n",
       "      <td>0.0</td>\n",
       "      <td>0.0</td>\n",
       "      <td>0.00</td>\n",
       "      <td>0.00</td>\n",
       "      <td>...</td>\n",
       "      <td>13.91</td>\n",
       "      <td>-1.00</td>\n",
       "      <td>0.00</td>\n",
       "      <td>3.21</td>\n",
       "      <td>15.67</td>\n",
       "      <td>0.00</td>\n",
       "      <td>0.0</td>\n",
       "      <td>12</td>\n",
       "      <td>0</td>\n",
       "      <td>0.0</td>\n",
       "    </tr>\n",
       "  </tbody>\n",
       "</table>\n",
       "<p>5 rows × 2401 columns</p>\n",
       "</div>"
      ],
      "text/plain": [
       "        x1      y1  xVel1  yVel1   xA1   yA1  xS1  yS1   xC1   yC1  ...  \\\n",
       "0   562.05   -0.62 -10.70  -4.33  0.00  0.00  0.0  0.0  0.00  0.00  ...   \n",
       "1   175.66  -57.09   2.31  -2.67  0.00  0.00  0.0  0.0  0.00  0.00  ...   \n",
       "2   200.16 -320.07   4.01  -6.37  0.00  0.00  0.0  0.0  0.18 -0.26  ...   \n",
       "3   316.99 -906.84   0.85   9.17 -0.17  1.03  0.0  0.0  0.00  0.00  ...   \n",
       "4  1277.68  908.54  -2.02   8.23 -1.00  1.00  0.0  0.0  0.00  0.00  ...   \n",
       "\n",
       "   yVel200  xA200  yA200  xS200  yS200  xC200  yC200  nAC200  nS200  \\\n",
       "0   -15.15   0.00   0.00   0.00   0.00   0.00    0.0      28      0   \n",
       "1    -3.48   0.00   0.00   0.00   0.00   0.00    0.0       4      0   \n",
       "2    -9.38   0.00   0.00   0.00   0.00  -0.11   -0.3      15      1   \n",
       "3    10.39  -0.26   1.01   0.00   0.00   0.00    0.0      16      0   \n",
       "4    13.91  -1.00   0.00   3.21  15.67   0.00    0.0      12      0   \n",
       "\n",
       "   Swarm_Behaviour  \n",
       "0              0.0  \n",
       "1              0.0  \n",
       "2              0.0  \n",
       "3              0.0  \n",
       "4              0.0  \n",
       "\n",
       "[5 rows x 2401 columns]"
      ]
     },
     "execution_count": 3,
     "metadata": {},
     "output_type": "execute_result"
    }
   ],
   "source": [
    "data.head()"
   ]
  },
  {
   "cell_type": "code",
   "execution_count": 4,
   "id": "1c5ac990",
   "metadata": {},
   "outputs": [],
   "source": [
    "# list(data.isnull().sum()!=0).index(True)\n",
    "# data doesn't contain any null values"
   ]
  },
  {
   "cell_type": "markdown",
   "id": "a842c9dc",
   "metadata": {},
   "source": [
    "# Splitting train-test-split"
   ]
  },
  {
   "cell_type": "code",
   "execution_count": 5,
   "id": "05f8d381",
   "metadata": {},
   "outputs": [],
   "source": [
    "X=data.iloc[:,:-1].values\n",
    "y=data.iloc[:,-1].values"
   ]
  },
  {
   "cell_type": "code",
   "execution_count": 6,
   "id": "907068bc",
   "metadata": {},
   "outputs": [],
   "source": [
    "x_train,x_test,y_train,y_test=train_test_split(X,y,train_size=0.8,random_state=42)                          "
   ]
  },
  {
   "cell_type": "markdown",
   "id": "8387a6b4",
   "metadata": {},
   "source": [
    "# Modelling"
   ]
  },
  {
   "cell_type": "code",
   "execution_count": 7,
   "id": "4066a73e",
   "metadata": {},
   "outputs": [],
   "source": [
    "l=[LogisticRegression(),KNeighborsClassifier(),GaussianNB(),BernoulliNB(),DecisionTreeClassifier('entropy',max_depth=4),DecisionTreeClassifier('gini',max_depth=4)]"
   ]
  },
  {
   "cell_type": "code",
   "execution_count": 8,
   "id": "6ebd1ec5",
   "metadata": {
    "scrolled": false
   },
   "outputs": [
    {
     "name": "stdout",
     "output_type": "stream",
     "text": [
      "-----------------------------------------------------\n",
      "\u001b[1;31mModel :\u001b[0m LogisticRegression()\n",
      "\u001b[1;31mConfusion Matrix : \n",
      " \u001b[0m [[2817  243]\n",
      " [ 237 1365]] \n",
      "\n",
      "\u001b[1;31mAccuracy Score :\u001b[0m0.90\n",
      "\n",
      "\n",
      "\u001b[1;31mClassification Report : \n",
      "\u001b[0m               precision    recall  f1-score   support\n",
      "\n",
      "         0.0       0.92      0.92      0.92      3060\n",
      "         1.0       0.85      0.85      0.85      1602\n",
      "\n",
      "    accuracy                           0.90      4662\n",
      "   macro avg       0.89      0.89      0.89      4662\n",
      "weighted avg       0.90      0.90      0.90      4662\n",
      "\n",
      "-----------------------------------------------------\n",
      "\u001b[1;31mModel :\u001b[0m KNeighborsClassifier()\n",
      "\u001b[1;31mConfusion Matrix : \n",
      " \u001b[0m [[2784  276]\n",
      " [ 253 1349]] \n",
      "\n",
      "\u001b[1;31mAccuracy Score :\u001b[0m0.89\n",
      "\n",
      "\n",
      "\u001b[1;31mClassification Report : \n",
      "\u001b[0m               precision    recall  f1-score   support\n",
      "\n",
      "         0.0       0.92      0.91      0.91      3060\n",
      "         1.0       0.83      0.84      0.84      1602\n",
      "\n",
      "    accuracy                           0.89      4662\n",
      "   macro avg       0.87      0.88      0.87      4662\n",
      "weighted avg       0.89      0.89      0.89      4662\n",
      "\n",
      "-----------------------------------------------------\n",
      "\u001b[1;31mModel :\u001b[0m GaussianNB()\n",
      "\u001b[1;31mConfusion Matrix : \n",
      " \u001b[0m [[ 565 2495]\n",
      " [  75 1527]] \n",
      "\n",
      "\u001b[1;31mAccuracy Score :\u001b[0m0.45\n",
      "\n",
      "\n",
      "\u001b[1;31mClassification Report : \n",
      "\u001b[0m               precision    recall  f1-score   support\n",
      "\n",
      "         0.0       0.88      0.18      0.31      3060\n",
      "         1.0       0.38      0.95      0.54      1602\n",
      "\n",
      "    accuracy                           0.45      4662\n",
      "   macro avg       0.63      0.57      0.42      4662\n",
      "weighted avg       0.71      0.45      0.39      4662\n",
      "\n",
      "-----------------------------------------------------\n",
      "\u001b[1;31mModel :\u001b[0m BernoulliNB()\n",
      "\u001b[1;31mConfusion Matrix : \n",
      " \u001b[0m [[2299  761]\n",
      " [ 224 1378]] \n",
      "\n",
      "\u001b[1;31mAccuracy Score :\u001b[0m0.79\n",
      "\n",
      "\n",
      "\u001b[1;31mClassification Report : \n",
      "\u001b[0m               precision    recall  f1-score   support\n",
      "\n",
      "         0.0       0.91      0.75      0.82      3060\n",
      "         1.0       0.64      0.86      0.74      1602\n",
      "\n",
      "    accuracy                           0.79      4662\n",
      "   macro avg       0.78      0.81      0.78      4662\n",
      "weighted avg       0.82      0.79      0.79      4662\n",
      "\n",
      "-----------------------------------------------------\n",
      "\u001b[1;31mModel :\u001b[0m DecisionTreeClassifier(criterion='entropy', max_depth=4)\n",
      "\u001b[1;31mConfusion Matrix : \n",
      " \u001b[0m [[2998   62]\n",
      " [ 395 1207]] \n",
      "\n",
      "\u001b[1;31mAccuracy Score :\u001b[0m0.90\n",
      "\n",
      "\n",
      "\u001b[1;31mClassification Report : \n",
      "\u001b[0m               precision    recall  f1-score   support\n",
      "\n",
      "         0.0       0.88      0.98      0.93      3060\n",
      "         1.0       0.95      0.75      0.84      1602\n",
      "\n",
      "    accuracy                           0.90      4662\n",
      "   macro avg       0.92      0.87      0.89      4662\n",
      "weighted avg       0.91      0.90      0.90      4662\n",
      "\n",
      "-----------------------------------------------------\n",
      "\u001b[1;31mModel :\u001b[0m DecisionTreeClassifier(max_depth=4)\n",
      "\u001b[1;31mConfusion Matrix : \n",
      " \u001b[0m [[2846  214]\n",
      " [ 246 1356]] \n",
      "\n",
      "\u001b[1;31mAccuracy Score :\u001b[0m0.90\n",
      "\n",
      "\n",
      "\u001b[1;31mClassification Report : \n",
      "\u001b[0m               precision    recall  f1-score   support\n",
      "\n",
      "         0.0       0.92      0.93      0.93      3060\n",
      "         1.0       0.86      0.85      0.85      1602\n",
      "\n",
      "    accuracy                           0.90      4662\n",
      "   macro avg       0.89      0.89      0.89      4662\n",
      "weighted avg       0.90      0.90      0.90      4662\n",
      "\n",
      "-----------------------------------------------------\n"
     ]
    }
   ],
   "source": [
    "for i in l:\n",
    "    i.fit(x_train,y_train)\n",
    "    y_pred=i.predict(x_test)\n",
    "    print('-----------------------------------------------------')\n",
    "    print('\\x1b[1;31m'+'Model :'+'\\x1b[0m',i)\n",
    "    print('\\x1b[1;31m'+'Confusion Matrix : \\n '+'\\x1b[0m',confusion_matrix(y_test,y_pred),'\\n')\n",
    "    print('\\x1b[1;31m'+'Accuracy Score :'+'\\x1b[0m'+ '{:.2f}'.format(accuracy_score(y_test,y_pred)))\n",
    "    print('\\n')\n",
    "    print('\\x1b[1;31m'+'Classification Report : \\n'+'\\x1b[0m',classification_report(y_test,y_pred))\n",
    "print('-----------------------------------------------------')"
   ]
  },
  {
   "cell_type": "markdown",
   "id": "044d1fdb",
   "metadata": {},
   "source": [
    "# Plotting DecisionTree Graph"
   ]
  },
  {
   "cell_type": "code",
   "execution_count": 9,
   "id": "29edb0a8",
   "metadata": {},
   "outputs": [],
   "source": [
    "export_graphviz(i,out_file=\"tree.dot\",filled = True)\n",
    "g=pydotplus.graph_from_dot_file('tree.dot')"
   ]
  },
  {
   "cell_type": "code",
   "execution_count": 10,
   "id": "01baadd5",
   "metadata": {},
   "outputs": [
    {
     "data": {
      "text/plain": [
       "True"
      ]
     },
     "execution_count": 10,
     "metadata": {},
     "output_type": "execute_result"
    }
   ],
   "source": [
    "g.write('image.png')"
   ]
  },
  {
   "cell_type": "markdown",
   "id": "1bc45a05",
   "metadata": {},
   "source": [
    "`DecisionTree Classifier has the best accuray ~90% compared to all other classifiers`"
   ]
  }
 ],
 "metadata": {
  "kernelspec": {
   "display_name": "Python 3 (ipykernel)",
   "language": "python",
   "name": "python3"
  },
  "language_info": {
   "codemirror_mode": {
    "name": "ipython",
    "version": 3
   },
   "file_extension": ".py",
   "mimetype": "text/x-python",
   "name": "python",
   "nbconvert_exporter": "python",
   "pygments_lexer": "ipython3",
   "version": "3.9.7"
  }
 },
 "nbformat": 4,
 "nbformat_minor": 5
}
